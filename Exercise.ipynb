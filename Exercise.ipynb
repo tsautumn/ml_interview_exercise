{
 "cells": [
  {
   "cell_type": "markdown",
   "id": "f623a24e",
   "metadata": {},
   "source": [
    "# Ensemble Tree Exercise\n",
    "\n",
    "#### Build a model\n",
    "1. Create and test a very basic-but-functional ensemble tree classifier (eg, LightGBM) using dataset.csv.  \n",
    "\n",
    "    - The label column is \"system_type\".  \n",
    "    - This notebook is provided to save you some time.  \n",
    "    - Don't overthink this -- we'll be evaluating you on step 3.  Accuracy > 80% gets you a score of 100% on step 1.\n",
    "\n",
    "#### Use your model\n",
    "2. Apply your model to the three rows in questions.csv.\n",
    "\n",
    "\n",
    "#### Discuss model\n",
    "3. Do a short writeup about your model.  Keep it down to about 300 words, point form is fine.  Speak to:\n",
    "\n",
    "    - Key assumptions, concerns, and limitations\n",
    "    - How would you verify that you haven't overfitted?\n",
    "    - If you were going to do some data cleaning, which features would you look at first, and why?\n",
    "    - Next steps in making the model more robust?\n",
    "\n",
    "#### Discuss results\n",
    "\n",
    "4. Imagine you're asked to make a very expensive recommendation based on the model's prediction.  How do you feel for each of row 1, 2, and 3 in questions.csv?\n"
   ]
  },
  {
   "cell_type": "code",
   "execution_count": 12,
   "id": "65700061",
   "metadata": {},
   "outputs": [
    {
     "name": "stdout",
     "output_type": "stream",
     "text": [
      "The autoreload extension is already loaded. To reload it, use:\n",
      "  %reload_ext autoreload\n"
     ]
    }
   ],
   "source": [
    "%load_ext autoreload\n",
    "%autoreload 2\n",
    "import pandas as pd\n",
    "import numpy as np"
   ]
  },
  {
   "cell_type": "code",
   "execution_count": 13,
   "id": "a7d0d71c",
   "metadata": {},
   "outputs": [],
   "source": [
    "# Load\n",
    "df = pd.read_csv(\"dataset.csv\", index_col='id')\n",
    "df['assigned_schedule'] = df['assigned_schedule'].astype('category')"
   ]
  },
  {
   "cell_type": "code",
   "execution_count": 14,
   "id": "5defa430",
   "metadata": {},
   "outputs": [],
   "source": [
    "qf = pd.read_csv(\"questions.csv\", index_col=\"id\")\n",
    "qf['assigned_schedule'] = pd.Categorical(qf['assigned_schedule'], categories = df['assigned_schedule'].cat.categories )"
   ]
  },
  {
   "cell_type": "code",
   "execution_count": 15,
   "id": "86c12d1c",
   "metadata": {},
   "outputs": [],
   "source": [
    "# Train/test split\n",
    "np.random.seed(0)\n",
    "TRAIN_FRAC = 0.99\n",
    "msk = np.random.rand(len(df)) <= TRAIN_FRAC\n",
    "tr = df[msk]\n",
    "te = df[~msk]\n",
    "\n",
    "# Make convenience dfs\n",
    "x_train = tr.drop('system_type',axis=1)\n",
    "y_train = tr.system_type\n",
    "x_test = te.drop('system_type',axis=1)\n",
    "y_test = te.system_type"
   ]
  },
  {
   "cell_type": "code",
   "execution_count": null,
   "id": "c549b4eb",
   "metadata": {},
   "outputs": [],
   "source": []
  }
 ],
 "metadata": {
  "kernelspec": {
   "display_name": "Python 3 (ipykernel)",
   "language": "python",
   "name": "python3"
  },
  "language_info": {
   "codemirror_mode": {
    "name": "ipython",
    "version": 3
   },
   "file_extension": ".py",
   "mimetype": "text/x-python",
   "name": "python",
   "nbconvert_exporter": "python",
   "pygments_lexer": "ipython3",
   "version": "3.9.5"
  }
 },
 "nbformat": 4,
 "nbformat_minor": 5
}
