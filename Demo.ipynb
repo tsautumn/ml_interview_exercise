{
 "cells": [
  {
   "cell_type": "code",
   "execution_count": 46,
   "id": "65700061",
   "metadata": {},
   "outputs": [
    {
     "name": "stdout",
     "output_type": "stream",
     "text": [
      "The autoreload extension is already loaded. To reload it, use:\n",
      "  %reload_ext autoreload\n"
     ]
    }
   ],
   "source": [
    "%load_ext autoreload\n",
    "%autoreload 2\n",
    "import pandas as pd\n",
    "from pathlib import Path\n",
    "import re\n",
    "import numpy as np\n",
    "from sklearn.model_selection import train_test_split\n",
    "from sklearn import metrics\n",
    "import lightgbm as lgb\n",
    "\n",
    "# Cribbed from\n",
    "# https://www.analyticsvidhya.com/blog/2021/08/complete-guide-on-how-to-use-lightgbm-in-python/"
   ]
  },
  {
   "cell_type": "code",
   "execution_count": 68,
   "id": "a7d0d71c",
   "metadata": {},
   "outputs": [],
   "source": [
    "# Load\n",
    "df = pd.read_csv(\"dataset.csv\", index_col='id')\n",
    "df.assigned_schedule = df.assigned_schedule.astype('category')"
   ]
  },
  {
   "cell_type": "code",
   "execution_count": 69,
   "id": "86c12d1c",
   "metadata": {},
   "outputs": [],
   "source": [
    "# Train/test split\n",
    "np.random.seed(0)\n",
    "msk = np.random.rand(len(df)) < 0.8\n",
    "tr = df[msk]\n",
    "te = df[~msk]\n",
    "\n",
    "# Make convenience dfs\n",
    "x_train = tr.drop('system_type',axis=1)\n",
    "y_train = tr.system_type\n",
    "x_test = te.drop('system_type',axis=1)\n",
    "y_test = te.system_type"
   ]
  },
  {
   "cell_type": "code",
   "execution_count": 72,
   "id": "7a430384",
   "metadata": {},
   "outputs": [
    {
     "name": "stderr",
     "output_type": "stream",
     "text": [
      "/home/at/.pyenv/versions/3.9.5/envs/audette-env/lib/python3.9/site-packages/lightgbm/sklearn.py:736: UserWarning: 'verbose' argument is deprecated and will be removed in a future release of LightGBM. Pass 'log_evaluation()' callback via 'callbacks' argument instead.\n",
      "  _log_warning(\"'verbose' argument is deprecated and will be removed in a future release of LightGBM. \"\n",
      "/home/at/.pyenv/versions/3.9.5/envs/audette-env/lib/python3.9/site-packages/lightgbm/basic.py:1780: UserWarning: Overriding the parameters from Reference Dataset.\n",
      "  _log_warning('Overriding the parameters from Reference Dataset.')\n",
      "/home/at/.pyenv/versions/3.9.5/envs/audette-env/lib/python3.9/site-packages/lightgbm/basic.py:1513: UserWarning: categorical_column in param dict is overridden.\n",
      "  _log_warning(f'{cat_alias} in param dict is overridden.')\n"
     ]
    },
    {
     "data": {
      "text/plain": [
       "LGBMClassifier(seed=0)"
      ]
     },
     "execution_count": 72,
     "metadata": {},
     "output_type": "execute_result"
    }
   ],
   "source": [
    "param = {'num_leaves': 31, 'objective': 'multi'}\n",
    "model = lgb.LGBMClassifier(seed=0)\n",
    "model.fit(x_train,y_train,eval_set=[(x_test,y_test),(x_train,y_train)],verbose=0,eval_metric='logloss')"
   ]
  },
  {
   "cell_type": "code",
   "execution_count": 83,
   "id": "420b9ed3",
   "metadata": {},
   "outputs": [],
   "source": [
    "qf = pd.read_csv(\"questions.csv\", index_col=\"id\")\n",
    "qf.assigned_schedule = qf.assigned_schedule.astype('category')\n",
    "Yf = qf['system_type']\n",
    "Xf = qf.drop('system_type', axis=1)\n",
    "preds = model.predict(Xf)"
   ]
  },
  {
   "cell_type": "code",
   "execution_count": 84,
   "id": "4f0c97de",
   "metadata": {},
   "outputs": [
    {
     "data": {
      "text/plain": [
       "id\n",
       "1    ELECTRIC HEATING\n",
       "2           AC SYSTEM\n",
       "3         VENTILATION\n",
       "Name: system_type, dtype: object"
      ]
     },
     "metadata": {},
     "output_type": "display_data"
    },
    {
     "data": {
      "text/plain": [
       "array(['ELECTRIC HEATING', 'AC SYSTEM', 'VENTILATION'], dtype=object)"
      ]
     },
     "metadata": {},
     "output_type": "display_data"
    }
   ],
   "source": [
    "display(Yf)\n",
    "display(preds)"
   ]
  },
  {
   "cell_type": "code",
   "execution_count": null,
   "id": "c549b4eb",
   "metadata": {},
   "outputs": [],
   "source": []
  }
 ],
 "metadata": {
  "kernelspec": {
   "display_name": "Python 3 (ipykernel)",
   "language": "python",
   "name": "python3"
  },
  "language_info": {
   "codemirror_mode": {
    "name": "ipython",
    "version": 3
   },
   "file_extension": ".py",
   "mimetype": "text/x-python",
   "name": "python",
   "nbconvert_exporter": "python",
   "pygments_lexer": "ipython3",
   "version": "3.9.5"
  }
 },
 "nbformat": 4,
 "nbformat_minor": 5
}
